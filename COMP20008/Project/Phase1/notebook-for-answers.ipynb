{
 "cells": [
  {
   "cell_type": "code",
   "execution_count": 2,
   "metadata": {
    "collapsed": false,
    "scrolled": false
   },
   "outputs": [],
   "source": [
    "# Answer to 1.1\n",
    "\n",
    "import pandas as pd\n",
    "import numpy as np\n",
    "import matplotlib.pyplot as plt\n",
    "\n",
    "def month_dataframe(month_filename):\n",
    "    \"\"\"\n",
    "    Computes duration of trips, and inserts new data in a new duration column.\n",
    "    \n",
    "    Args:\n",
    "        month_filename: csv file with raw datasets\n",
    "    Returns:\n",
    "        new dataframe containing duration column\n",
    "    \"\"\"\n",
    "    \n",
    "    df = pd.read_csv(month_filename, encoding = 'ISO-8859-1')\n",
    "    \n",
    "    # convert to datetimes\n",
    "    t1 = pd.to_datetime(df['pickup_datetime'], format = '%d/%m/%y %H:%M')\n",
    "    t2 = pd.to_datetime(df['dropoff_datetime'], format = '%d/%m/%y %H:%M')\n",
    "    \n",
    "    # compute durations\n",
    "    df['duration'] = t2 -t1\n",
    "    df['duration'] = df['duration'].astype('timedelta64[m]')\n",
    "    \n",
    "    return df\n",
    "\n",
    "# raw january DataFrame\n",
    "# contains new 'duration' column\n",
    "raw_january = month_dataframe('raw-january.csv')\n",
    "\n",
    "# raw june DataFrame\n",
    "# contains new 'duration' column\n",
    "raw_june = month_dataframe('raw-june.csv')\n",
    "\n",
    "# New DataFrames\n",
    "def new_dataframe(prev_dataframe):\n",
    "    \"\"\"\n",
    "    Creates new dataframes, with new column schemas\n",
    "    \n",
    "    Args:\n",
    "        prev_dataframe (pandas.DataFrame): dataframe which is to be transformed\n",
    "    Returns:\n",
    "        new dataframe containing column headers\n",
    "    \"\"\"\n",
    "    \n",
    "    columns = ['duration', 'trip_distance', 'passenger_count', 'payment_amount']\n",
    "     \n",
    "    index = range(len(prev_dataframe.index))\n",
    "     \n",
    "    df = prev_dataframe[columns].copy()\n",
    "    \n",
    "    df.index.name = 'Index'\n",
    "    \n",
    "    return df\n",
    "\n",
    "# new dataframes\n",
    "january_data = new_dataframe(raw_january)\n",
    "\n",
    "june_data = new_dataframe(raw_june)\n"
   ]
  },
  {
   "cell_type": "code",
   "execution_count": 3,
   "metadata": {
    "collapsed": false
   },
   "outputs": [
    {
     "name": "stdout",
     "output_type": "stream",
     "text": [
      "****************************** Mean Trip Distance ******************************\n",
      "January: 2.882934\n",
      "   June: 3.047048\n",
      "********************************************************************************\n",
      "\n",
      "****************************** Mean Trip Duration ******************************\n",
      "January: 14.957953\n",
      "   June: 17.001688\n",
      "********************************************************************************\n",
      "\n",
      "************************** Mean Trip Passenger Count ***************************\n",
      "January: 1.668558\n",
      "   June: 1.658372\n",
      "********************************************************************************\n",
      "\n"
     ]
    }
   ],
   "source": [
    "#Answer to 1.2\n",
    "\n",
    "def column_statistics(stat_name, column, dataframe1, dataframe2):\n",
    "    \"\"\"\n",
    "    reports column statistics, and prints them out in different formats\n",
    "    \n",
    "    Args:\n",
    "        stat_name (str): name of stat to compute\n",
    "        column (str): column name\n",
    "        dataframe1 (pandas.DataFrame): january data frame\n",
    "        dataframe2 (pandas.DataFrame): june data frame\n",
    "    Returns:\n",
    "        returns None\n",
    "    \"\"\"\n",
    "    \n",
    "    if stat_name == 'Mean Trip Passenger Count':\n",
    "        print('%s %s %s' % ('*' * 26, stat_name, '*' * 27))\n",
    "    else :\n",
    "        print('%s %s %s' % ('*' * 30, stat_name, '*' * 30))\n",
    "            \n",
    "    mean = dataframe1[column].mean()\n",
    "    print('%s: %f' % ('January', mean))\n",
    "        \n",
    "    mean = dataframe2[column].mean()\n",
    "    print('%7s: %f' % ('June', mean))\n",
    "        \n",
    "    print('%s\\n' % ('*' * 80))\n",
    "    \n",
    "    return\n",
    "\n",
    "# printed out column statistics\n",
    "column_statistics('Mean Trip Distance', 'trip_distance', january_data, june_data)\n",
    "column_statistics('Mean Trip Duration', 'duration', january_data, june_data)\n",
    "column_statistics('Mean Trip Passenger Count', 'passenger_count', january_data, june_data)\n"
   ]
  },
  {
   "cell_type": "code",
   "execution_count": 4,
   "metadata": {
    "collapsed": false
   },
   "outputs": [
    {
     "data": {
      "image/png": "[encoded data removed]",
      "text/plain": [
       "<matplotlib.figure.Figure at 0x1c953521fd0>"
      ]
     },
     "metadata": {},
     "output_type": "display_data"
    },
    {
     "data": {
      "image/png": "[encoded data removed]",
      "text/plain": [
       "<matplotlib.figure.Figure at 0x1c956f36d68>"
      ]
     },
     "metadata": {},
     "output_type": "display_data"
    },
    {
     "data": {
      "image/png": "[encoded data removed]",
      "text/plain": [
       "<matplotlib.figure.Figure at 0x1c9574ecd68>"
      ]
     },
     "metadata": {},
     "output_type": "display_data"
    }
   ],
   "source": [
    "%matplotlib inline\n",
    "#Answer to 1.3\n",
    "\n",
    "# duration plot \n",
    "\n",
    "def column_data(column, dataframe1, dataframe2):\n",
    "    \"\"\"\n",
    "    returns boxplot of specified column data, eaching containing two boxplots\n",
    "    which show a boxplot spread of data from january and june. \n",
    "    \n",
    "    Args:\n",
    "        stat_name (str): name of stat to compute\n",
    "        column (str): column name\n",
    "        dataframe1 (pandas.DataFrame): january data frame\n",
    "        dataframe2 (pandas.DataFrame): june data frame\n",
    "    Returns:\n",
    "        returns None\n",
    "    \"\"\"\n",
    "    data = {'January': dataframe1[column], 'June': dataframe2[column]}\n",
    "    \n",
    "    df = pd.DataFrame(data = data)\n",
    "    \n",
    "    df.boxplot(column = ['January', 'June'])\n",
    "    \n",
    "    return df\n",
    "\n",
    "# plots duration boxplot\n",
    "duration_df = column_data('duration', january_data, june_data)\n",
    "plt.title('January/Febuary Duration')\n",
    "\n",
    "plt.ylabel('Duration Range')\n",
    "plt.xlabel('Duration Months')\n",
    "\n",
    "plt.show()\n",
    "\n",
    "# plots trip distance boxplot\n",
    "distance_df = column_data('trip_distance', january_data, june_data)\n",
    "plt.title('January/Febuary Distances')\n",
    "\n",
    "plt.ylabel('Distance Range')\n",
    "plt.xlabel('Distance Months')\n",
    "\n",
    "plt.show()\n",
    "\n",
    "#plots trip fare boxplot\n",
    "trip_fare_df = column_data('payment_amount', january_data, june_data)\n",
    "plt.title('January/Febuary Trip Fares')\n",
    "\n",
    "plt.ylabel('Trip Fare Range')\n",
    "plt.xlabel('Trip Fare Months')\n",
    "\n",
    "plt.show()\n"
   ]
  },
  {
   "cell_type": "code",
   "execution_count": 5,
   "metadata": {
    "collapsed": false
   },
   "outputs": [
    {
     "name": "stdout",
     "output_type": "stream",
     "text": [
      "****************************************************************************\n",
      "3.11% of instances in duration are noisy! (normal range is between 1 and 40)\n",
      "****************************************************************************\n",
      "***********************************************************************************\n",
      "0.79% of instances in trip_distance are noisy! (normal range is between 0.1 and 30)\n",
      "***********************************************************************************\n",
      "**********************************************************************************\n",
      "0.01% of instances in passenger_count are noisy! (normal range is between 1 and 6)\n",
      "**********************************************************************************\n",
      "***************************************************************************************\n",
      "2.18% of instances in payment_amount are noisy! (normal range is between 5.0 and 200.3)\n",
      "***************************************************************************************\n"
     ]
    }
   ],
   "source": [
    "#Answer to 1.4\n",
    "\n",
    "# neccesary package included to have an ordered dictionary\n",
    "from collections import OrderedDict\n",
    "\n",
    "# helper function which prints out a ordered dataset of the values with respect to frequency\n",
    "# helpful with seeing the range of values and how many times they occur in the data set\n",
    "def ranges(dataframe, column):\n",
    "    \"\"\"\n",
    "    prints out data column in sorted order, along with frequencies.\n",
    "    \n",
    "    Args:\n",
    "        dataframe (pandas.DataFrame): datafrane which contains data\n",
    "        column (str): column name\n",
    "        \n",
    "    Returns:\n",
    "        returns None\n",
    "    \"\"\"\n",
    "    data = dataframe[column].value_counts().to_dict()\n",
    "\n",
    "    d = OrderedDict(sorted(data.items()))\n",
    "    \n",
    "    for key, value in d.items():\n",
    "        print(key, value)\n",
    "        \n",
    "    return\n",
    "\n",
    "# function calls which prints out sorted\n",
    "\n",
    "#ranges(january_data, 'duration')\n",
    "#ranges(january_data, 'payment_amount')\n",
    "#ranges(january_data, 'trip_distance')\n",
    "#ranges(january_data, 'trip_distance')\n",
    "\n",
    "def calculate_ratio(dataframe, column, range_lower, range_upper):\n",
    "    \"\"\"\n",
    "    returns ratio value calculated from column ranges\n",
    "    \n",
    "    Args:\n",
    "        dataframe(pandas.DataFrame): dataframe which contains data\n",
    "        column (str): column name of dataframe\n",
    "        range_lower (int/float): lower range\n",
    "        range_upper (int/float): upper range\n",
    "    Returns:\n",
    "        returns ratio\n",
    "    \"\"\"\n",
    "    less_instance = dataframe[dataframe[column] < range_lower].count()\n",
    "    more_instance = dataframe[dataframe[column] > range_upper].count()\n",
    "\n",
    "    total_instance = dataframe[column].count()\n",
    "\n",
    "    ratio = (less_instance + more_instance) / total_instance\n",
    "    \n",
    "    return ratio[0]\n",
    "\n",
    "# normal range for duration is [1, 40]\n",
    "# used ranges() to print out the column in sorted order and frequency of each value\n",
    "# it was seen that the majority of values was in this range, and 0 was excluded since a duration cannot be this value\n",
    "duration_lower, duration_upper = 1, 40\n",
    "duration_ratio = calculate_ratio(january_data, 'duration', duration_lower, duration_upper)\n",
    "\n",
    "print('*' * 76)\n",
    "print('%.2f%% of instances in %s are noisy! (normal range is between %d and %d)' \n",
    "       % (duration_ratio * 100, 'duration', duration_lower, duration_upper))\n",
    "print('*' * 76)\n",
    "\n",
    "# normal range for distance is [0.1, 30]\n",
    "# used ranges() to print out the column in sorted order and frequency of each value\n",
    "# it was seen that the majority of values was in this range, and 0 was excluded since a distance cannot be this value\n",
    "# seemed acceptable that a taxi ride could be 0.1 miles short to 30 miles. Any more than that seems unlikely for a taxi ride.\n",
    "distance_lower, distance_upper = 0.1, 30\n",
    "distance_ratio = calculate_ratio(january_data, 'trip_distance', distance_lower, distance_upper)\n",
    "\n",
    "print('*' * 83)\n",
    "print('%.2f%% of instances in %s are noisy! (normal range is between %.1f and %d)' \n",
    "       % (distance_ratio * 100, 'trip_distance', distance_lower, distance_upper))\n",
    "print('*' * 83)\n",
    "\n",
    "# normal range for passenger count is [1, 6]\n",
    "# used ranges() to print out the column in sorted order and frequency of each value\n",
    "# it was seen that the majority of values was in this range, and 0 was excluded since a distance cannot be this value\n",
    "# seemed acceptable that a taxi ride could only take this many passengers at once, and most of the values fell in this range\n",
    "passenger_lower, passenger_upper = 1, 6\n",
    "passenger_ratio = calculate_ratio(january_data, 'passenger_count', passenger_lower, passenger_upper)\n",
    "\n",
    "print('*' * 82)\n",
    "print('%.2f%% of instances in %s are noisy! (normal range is between %d and %d)' \n",
    "       % (passenger_ratio * 100, 'passenger_count', passenger_lower, passenger_upper))\n",
    "print('*' * 82)\n",
    "\n",
    "# normal range for payment amount is [5.0, 200.3]\n",
    "# used ranges() to print out the column in sorted order and frequency of each value\n",
    "# it was seen that the majority of values was in this range, and 0 was excluded since a distance cannot be this value\n",
    "# prices lower than 5.0 seemed too low, and anything more than 200 dollars would be considered excessive\n",
    "payment_lower, payment_upper = 5.0, 200.3\n",
    "payment_ratio = calculate_ratio(january_data, 'payment_amount', payment_lower, payment_upper)\n",
    "\n",
    "print('*' * 87)\n",
    "print('%.2f%% of instances in %s are noisy! (normal range is between %.1f and %.1f)' \n",
    "       % (payment_ratio * 100, 'payment_amount', payment_lower, payment_upper))\n",
    "print('*' * 87)\n",
    "\n",
    "# replacing noisy values\n",
    "def replace_noisy(dataframe, column, range_lower, range_upper):\n",
    "    dataframe[dataframe[column] < range_lower] = dataframe[column].mean()\n",
    "    dataframe[dataframe[column] > range_upper] = dataframe[column].mean()\n",
    "    return\n",
    "\n",
    "replace_noisy(january_data, 'duration', duration_lower, duration_upper)\n",
    "replace_noisy(january_data, 'trip_distance', distance_lower, distance_upper)\n",
    "replace_noisy(january_data, 'passenger_count', passenger_lower, passenger_upper)\n",
    "replace_noisy(january_data, 'payment_amount', payment_lower, payment_upper)\n",
    "\n",
    "\n"
   ]
  },
  {
   "cell_type": "code",
   "execution_count": 6,
   "metadata": {
    "collapsed": false,
    "scrolled": false
   },
   "outputs": [
    {
     "name": "stdout",
     "output_type": "stream",
     "text": [
      "**************************************************\n",
      "% of weekend trips=29.0854\n",
      "**************************************************\n"
     ]
    }
   ],
   "source": [
    "#Answer to 2.1\n",
    "\n",
    "clean_january = pd.read_csv('clean-january.csv', encoding = 'ISO-8859-1')\n",
    "\n",
    "# converts to datetime object\n",
    "jan_datetime = pd.to_datetime(clean_january['pickup_datetime'], format = '%d/%m/%y %H:%M')\n",
    "\n",
    "# day of week number, 0-6, monday-0, sunday-6. \n",
    "clean_january['isWeekend'] = pd.DatetimeIndex(jan_datetime).dayofweek\n",
    "\n",
    "# updates isWeekend column to have 1 for weekend and 0 for weekday\n",
    "clean_january['isWeekend'] = (clean_january['isWeekend'] >= 5).astype(int)\n",
    "\n",
    "#create dictionary of isWeekend counts\n",
    "d = clean_january['isWeekend'].value_counts().to_dict()\n",
    "\n",
    "print('*' * 50)\n",
    "print('%% of weekend trips=%.4f' % (d[1]/len(clean_january.index) * 100))\n",
    "print('*' * 50)\n"
   ]
  },
  {
   "cell_type": "code",
   "execution_count": 7,
   "metadata": {
    "collapsed": false
   },
   "outputs": [
    {
     "data": {
      "image/png": "[encoded data removed]",
      "text/plain": [
       "<matplotlib.figure.Figure at 0x1c95a31f9e8>"
      ]
     },
     "metadata": {},
     "output_type": "display_data"
    },
    {
     "data": {
      "image/png": "[encoded data removed]",
      "text/plain": [
       "<matplotlib.figure.Figure at 0x1c95a557cc0>"
      ]
     },
     "metadata": {},
     "output_type": "display_data"
    }
   ],
   "source": [
    "#Answer to 2.2\n",
    "\n",
    "# create new column with hours from DatetimeIndex\n",
    "clean_january['hour'] = pd.DatetimeIndex(clean_january['pickup_datetime']).hour\n",
    "\n",
    "# store relevant data \n",
    "data = {'isWeekend': clean_january['isWeekend'], 'hour': clean_january['hour']}\n",
    "\n",
    "df = pd.DataFrame(data = data)\n",
    "\n",
    "# filter out dataframes depending on isWeekend value \n",
    "weekend_df = df[df['isWeekend'] == 1]\n",
    "weekday_df = df[df['isWeekend'] == 0]\n",
    "\n",
    "bins=[0, 6, 9, 12, 16, 20, 24]\n",
    "\n",
    "# weekend histogram\n",
    "plt.hist(weekend_df['hour'], bins=bins, edgecolor=\"k\")\n",
    "\n",
    "plt.xticks(bins)\n",
    "\n",
    "plt.title('Weekend Taxi Trip Frequencies')\n",
    "\n",
    "plt.ylabel('Frequency')\n",
    "plt.xlabel('Hours')\n",
    "\n",
    "plt.show()\n",
    "\n",
    "# weekdays histogram\n",
    "plt.hist(weekday_df['hour'], bins=bins, edgecolor=\"k\")\n",
    "\n",
    "plt.xticks(bins)\n",
    "\n",
    "plt.title('Weekday Taxi Trip Frequencies')\n",
    "\n",
    "plt.ylabel('Frequency')\n",
    "plt.xlabel('Hours')\n",
    "\n",
    "plt.show()\n"
   ]
  },
  {
   "cell_type": "code",
   "execution_count": 12,
   "metadata": {
    "collapsed": false,
    "scrolled": false
   },
   "outputs": [
    {
     "name": "stdout",
     "output_type": "stream",
     "text": [
      "{0: 1.3290533015888759, 1: 1.3395096507815685, 2: 1.3645552711760014, 3: 1.3869948236471046, 4: 1.4346445102483716, 5: 1.6169582069275132, 6: 1.4050165816293509, 7: 1.2258175567375096, 8: 1.1246683560205346, 9: 1.1330695877889254, 10: 1.1502291282360988, 11: 1.1295684406490769, 12: 1.119487544386234, 13: 1.1162994845460978, 14: 1.1151160968314719, 15: 1.1050857953830024, 16: 1.1812634684548284, 17: 1.162134557057434, 18: 1.1836544139677341, 19: 1.2379815172382018, 20: 1.2814786525173818, 21: 1.2990962754044728, 22: 1.3006343001698646, 23: 1.3270355227996908}\n"
     ]
    },
    {
     "data": {
      "image/png": "[encoded data removed]",
      "text/plain": [
       "<matplotlib.figure.Figure at 0x1c9574a7ac8>"
      ]
     },
     "metadata": {},
     "output_type": "display_data"
    }
   ],
   "source": [
    "#Answer to 2.3\n",
    "\n",
    "# create income efficiency column\n",
    "clean_january['income_efficiency'] = clean_january['payment_amount'] / clean_january['duration']\n",
    "\n",
    "# store data in dictionary data structure\n",
    "income_data = {'hour': clean_january['hour'], 'income_efficiency': clean_january['income_efficiency']}\n",
    "\n",
    "income_df = pd.DataFrame(data = income_data)\n",
    "\n",
    "#groupy columns and store in another dictionary\n",
    "d = income_df.groupby(by=['hour'])['income_efficiency'].mean().to_dict()\n",
    "\n",
    "print(d)\n",
    "\n",
    "width = 1/1.5\n",
    "\n",
    "#plot bar chart\n",
    "plt.bar(range(len(d)), d.values(), width, align = 'center')\n",
    "\n",
    "plt.xticks(range(len(d)), d.keys())\n",
    "\n",
    "plt.title('Income Efficiecy Per Day')\n",
    "\n",
    "plt.xlabel('Hours')\n",
    "\n",
    "plt.ylabel('Mean income efficiency')\n",
    "\n",
    "plt.show('mean income efficiency')"
   ]
  },
  {
   "cell_type": "code",
   "execution_count": null,
   "metadata": {
    "collapsed": true
   },
   "outputs": [],
   "source": []
  }
 ],
 "metadata": {
  "kernelspec": {
   "display_name": "Python 3",
   "language": "python",
   "name": "python3"
  },
  "language_info": {
   "codemirror_mode": {
    "name": "ipython",
    "version": 3
   },
   "file_extension": ".py",
   "mimetype": "text/x-python",
   "name": "python",
   "nbconvert_exporter": "python",
   "pygments_lexer": "ipython3",
   "version": "3.6.0"
  }
 },
 "nbformat": 4,
 "nbformat_minor": 0
}
